{
  "nbformat": 4,
  "nbformat_minor": 0,
  "metadata": {
    "kernelspec": {
      "display_name": "Python 3",
      "language": "python",
      "name": "python3"
    },
    "language_info": {
      "codemirror_mode": {
        "name": "ipython",
        "version": 3
      },
      "file_extension": ".py",
      "mimetype": "text/x-python",
      "name": "python",
      "nbconvert_exporter": "python",
      "pygments_lexer": "ipython3",
      "version": "3.6.8"
    },
    "colab": {
      "name": "Strings_ViditSir.ipynb",
      "provenance": [],
      "collapsed_sections": []
    }
  },
  "cells": [
    {
      "cell_type": "code",
      "metadata": {
        "id": "zN4Dz4_DXgkH",
        "colab": {
          "base_uri": "https://localhost:8080/"
        },
        "outputId": "06d0e415-d7f3-4fe1-e5c8-2a9c74f14492"
      },
      "source": [
        "# Printing Strings into Python\n",
        "\n",
        "print(\"Hello\") # weather we use double quotes or single ,it the same\n",
        "print('Hello')  "
      ],
      "execution_count": 1,
      "outputs": [
        {
          "output_type": "stream",
          "text": [
            "Hello\n",
            "Hello\n"
          ],
          "name": "stdout"
        }
      ]
    },
    {
      "cell_type": "code",
      "metadata": {
        "colab": {
          "base_uri": "https://localhost:8080/"
        },
        "id": "fH9BYbe4ftrH",
        "outputId": "b93ed93b-6544-4119-e03d-46979d8434c5"
      },
      "source": [
        "a = 5 \n",
        "type(a)"
      ],
      "execution_count": 3,
      "outputs": [
        {
          "output_type": "execute_result",
          "data": {
            "text/plain": [
              "int"
            ]
          },
          "metadata": {
            "tags": []
          },
          "execution_count": 3
        }
      ]
    },
    {
      "cell_type": "code",
      "metadata": {
        "colab": {
          "base_uri": "https://localhost:8080/"
        },
        "id": "U7s8Pjstfy9C",
        "outputId": "bde22763-91af-43ee-8377-6d1f2acf6050"
      },
      "source": [
        "b = '5'\n",
        "type(b)   # Interview question - How will you convert number to string    Ans- put that particular number in commas"
      ],
      "execution_count": 4,
      "outputs": [
        {
          "output_type": "execute_result",
          "data": {
            "text/plain": [
              "str"
            ]
          },
          "metadata": {
            "tags": []
          },
          "execution_count": 4
        }
      ]
    },
    {
      "cell_type": "code",
      "metadata": {
        "id": "F5_UInMgXgkR",
        "colab": {
          "base_uri": "https://localhost:8080/"
        },
        "outputId": "d718bc53-bb8b-4a1b-9cc3-36cf1e214113"
      },
      "source": [
        "x = \"Chocolate Sweden\"\n",
        "x = x.split(\" \")\n",
        "x "
      ],
      "execution_count": 2,
      "outputs": [
        {
          "output_type": "execute_result",
          "data": {
            "text/plain": [
              "['Chocolate', 'Sweden']"
            ]
          },
          "metadata": {
            "tags": []
          },
          "execution_count": 2
        }
      ]
    },
    {
      "cell_type": "code",
      "metadata": {
        "id": "PnrOfMmufyA0"
      },
      "source": [
        ""
      ],
      "execution_count": null,
      "outputs": []
    },
    {
      "cell_type": "code",
      "metadata": {
        "id": "lSElg-tDXgkT",
        "colab": {
          "base_uri": "https://localhost:8080/",
          "height": 34
        },
        "outputId": "f7c0f73a-713b-471c-d435-3c4340cd9197"
      },
      "source": [
        "x = yuo\"xyy//098/.85285.98\"\n",
        "x = x.split(\"/\")\n",
        "x = x[-1]\n",
        "x = x.split(\".\")\n",
        "x[-1]"
      ],
      "execution_count": 5,
      "outputs": [
        {
          "output_type": "execute_result",
          "data": {
            "application/vnd.google.colaboratory.intrinsic+json": {
              "type": "string"
            },
            "text/plain": [
              "'98'"
            ]
          },
          "metadata": {
            "tags": []
          },
          "execution_count": 5
        }
      ]
    },
    {
      "cell_type": "code",
      "metadata": {
        "id": "LOG5MNU8XgkU",
        "outputId": "540348ff-9dee-4b4b-8037-7d70e1ec52d0"
      },
      "source": [
        "# Assigning Values to the String\n",
        "\n",
        "a = \"Hello\"\n",
        "print(a)"
      ],
      "execution_count": null,
      "outputs": [
        {
          "output_type": "stream",
          "text": [
            "Hello\n"
          ],
          "name": "stdout"
        }
      ]
    },
    {
      "cell_type": "code",
      "metadata": {
        "id": "nVI8_2PIXgkV",
        "colab": {
          "base_uri": "https://localhost:8080/"
        },
        "outputId": "0c521857-5464-47d5-cdd2-a3a7b33ad7d7"
      },
      "source": [
        "# Strings as Arrays\n",
        "\n",
        "a = \"Hello World!\"   # Indexing 0 is always the first index , -1 is Last\n",
        "print(a[0])"
      ],
      "execution_count": 6,
      "outputs": [
        {
          "output_type": "stream",
          "text": [
            "H\n"
          ],
          "name": "stdout"
        }
      ]
    },
    {
      "cell_type": "code",
      "metadata": {
        "id": "5kqUH4hjXgkW",
        "colab": {
          "base_uri": "https://localhost:8080/"
        },
        "outputId": "f6e6cc0f-2c2f-4f2e-92bd-86510b733034"
      },
      "source": [
        "# Slicing\n",
        "\n",
        "b = \"Hello, World!\"\n",
        "print(b[2:5])   # 2nd index will be counted,but 5th index will not\n"
      ],
      "execution_count": 7,
      "outputs": [
        {
          "output_type": "stream",
          "text": [
            "llo\n"
          ],
          "name": "stdout"
        }
      ]
    },
    {
      "cell_type": "code",
      "metadata": {
        "id": "OoLQ8zIvXgkX",
        "outputId": "8db9c80b-d27f-4cd7-ba92-50a494c0b44c"
      },
      "source": [
        "# Negative Indexing\n",
        "\n",
        "b = \"Hello, World!\"   # we are doing reverse \n",
        "print(b[::-1])      # This is the code to reverse"
      ],
      "execution_count": null,
      "outputs": [
        {
          "output_type": "stream",
          "text": [
            "!dlroW ,olleH\n"
          ],
          "name": "stdout"
        }
      ]
    },
    {
      "cell_type": "code",
      "metadata": {
        "id": "6OB-jHOvXgkY",
        "outputId": "93c51aae-2cb6-4916-b452-06a31ebeac44"
      },
      "source": [
        "# String Length\n",
        "\n",
        "a = \"Ram sita\"\n",
        "print(len(a))"
      ],
      "execution_count": null,
      "outputs": [
        {
          "output_type": "stream",
          "text": [
            "8\n"
          ],
          "name": "stdout"
        }
      ]
    },
    {
      "cell_type": "code",
      "metadata": {
        "colab": {
          "base_uri": "https://localhost:8080/"
        },
        "id": "0Zqo0pKliKEA",
        "outputId": "f4276117-c196-4f4e-b0e4-ffaeb91ddf08"
      },
      "source": [
        "x = 'anusha'\n",
        "len(x)\n"
      ],
      "execution_count": 9,
      "outputs": [
        {
          "output_type": "execute_result",
          "data": {
            "text/plain": [
              "6"
            ]
          },
          "metadata": {
            "tags": []
          },
          "execution_count": 9
        }
      ]
    },
    {
      "cell_type": "code",
      "metadata": {
        "id": "i78UKT-NXgkY",
        "colab": {
          "base_uri": "https://localhost:8080/"
        },
        "outputId": "fb3cb736-0140-4550-f880-e3d0ab6eef32"
      },
      "source": [
        "a = \"Kolkata\"\n",
        "b = \" Kolkata\"\n",
        "c = \" KOLKATA\"\n",
        "print(a==b)     # In b there is some space , so this space will be counted as extra len()"
      ],
      "execution_count": 10,
      "outputs": [
        {
          "output_type": "stream",
          "text": [
            "False\n"
          ],
          "name": "stdout"
        }
      ]
    },
    {
      "cell_type": "code",
      "metadata": {
        "id": "9Pc9ZvDWXgkf",
        "colab": {
          "base_uri": "https://localhost:8080/",
          "height": 34
        },
        "outputId": "8705b1e8-be5d-4a48-f5e4-b43fb3e49b8e"
      },
      "source": [
        "# Stripping a string\n",
        "\n",
        "a = \" Hello, World! \"\n",
        "a = a.strip()\n",
        "a                 # we are removing the unwanted space and making the data structured"
      ],
      "execution_count": 11,
      "outputs": [
        {
          "output_type": "execute_result",
          "data": {
            "application/vnd.google.colaboratory.intrinsic+json": {
              "type": "string"
            },
            "text/plain": [
              "'Hello, World!'"
            ]
          },
          "metadata": {
            "tags": []
          },
          "execution_count": 11
        }
      ]
    },
    {
      "cell_type": "code",
      "metadata": {
        "id": "kByK59waXgkg",
        "colab": {
          "base_uri": "https://localhost:8080/",
          "height": 34
        },
        "outputId": "a6671739-86ee-478c-c893-28d49afc5cdf"
      },
      "source": [
        "a = \"(ayesha)\"\n",
        "a = a.strip(\"(\").strip(\")\")\n",
        "a                                  # ince sinle commas is by defaultg"
      ],
      "execution_count": 12,
      "outputs": [
        {
          "output_type": "execute_result",
          "data": {
            "application/vnd.google.colaboratory.intrinsic+json": {
              "type": "string"
            },
            "text/plain": [
              "'ayesha'"
            ]
          },
          "metadata": {
            "tags": []
          },
          "execution_count": 12
        }
      ]
    },
    {
      "cell_type": "code",
      "metadata": {
        "id": "N4_XTNEAXgkh",
        "colab": {
          "base_uri": "https://localhost:8080/"
        },
        "outputId": "d82d9a71-2a31-4bb6-fb9e-b2fe221babd6"
      },
      "source": [
        "# converting into lowercase\n",
        "\n",
        "a = \"Hello, World!\"\n",
        "print(a.lower())      # In lower case  Capital Letters will be converted to small or lower characters"
      ],
      "execution_count": 13,
      "outputs": [
        {
          "output_type": "stream",
          "text": [
            "hello, world!\n"
          ],
          "name": "stdout"
        }
      ]
    },
    {
      "cell_type": "code",
      "metadata": {
        "id": "D5pazIxmXgki",
        "colab": {
          "base_uri": "https://localhost:8080/"
        },
        "outputId": "653eabbf-4ab0-4098-9e3a-0141d2d491e7"
      },
      "source": [
        "# converting into uppercase\n",
        "\n",
        "a = \"Hello, World!\"\n",
        "print(a.upper())   # In uppercase, Lower characters will be converted in capital"
      ],
      "execution_count": 14,
      "outputs": [
        {
          "output_type": "stream",
          "text": [
            "HELLO, WORLD!\n"
          ],
          "name": "stdout"
        }
      ]
    },
    {
      "cell_type": "code",
      "metadata": {
        "id": "3x-LKW_DXgkj",
        "colab": {
          "base_uri": "https://localhost:8080/",
          "height": 34
        },
        "outputId": "56a0d9ab-1eb8-496d-ddaa-fa530cbfccd5"
      },
      "source": [
        "a  ='taylor swift jr'    # Title will make the first letter of each word in Capital or Upper case\n",
        "a.title()"
      ],
      "execution_count": 16,
      "outputs": [
        {
          "output_type": "execute_result",
          "data": {
            "application/vnd.google.colaboratory.intrinsic+json": {
              "type": "string"
            },
            "text/plain": [
              "'Taylor Swift Jr'"
            ]
          },
          "metadata": {
            "tags": []
          },
          "execution_count": 16
        }
      ]
    },
    {
      "cell_type": "code",
      "metadata": {
        "id": "4q8dFd_UXgkk",
        "outputId": "0514a476-222f-45c9-efc9-2e4a8144913a"
      },
      "source": [
        "a  ='taylor swift jr'\n",
        "a.capitalize()        # Only very first Letter of the starting word of a sentece will be in Capital or uppercase"
      ],
      "execution_count": null,
      "outputs": [
        {
          "output_type": "execute_result",
          "data": {
            "text/plain": [
              "'Taylor swift jr'"
            ]
          },
          "metadata": {
            "tags": []
          },
          "execution_count": 66
        }
      ]
    },
    {
      "cell_type": "code",
      "metadata": {
        "scrolled": true,
        "id": "ZjtAgIdEXgkl",
        "colab": {
          "base_uri": "https://localhost:8080/",
          "height": 34
        },
        "outputId": "111f3014-a98e-4d83-bb18-0d3a0b69857a"
      },
      "source": [
        "# using replace function\n",
        "\n",
        "a = \"Hello, World!\"\n",
        "a = a.replace(\"He\",'s')\n",
        "a = a.replace('W','m')\n",
        "a                             # so replace function will be used to put or edit a letter or a sentece or some particular words from the sentence"
      ],
      "execution_count": 17,
      "outputs": [
        {
          "output_type": "execute_result",
          "data": {
            "application/vnd.google.colaboratory.intrinsic+json": {
              "type": "string"
            },
            "text/plain": [
              "'sllo, morld!'"
            ]
          },
          "metadata": {
            "tags": []
          },
          "execution_count": 17
        }
      ]
    },
    {
      "cell_type": "code",
      "metadata": {
        "id": "KYZWKtOjXgkm",
        "colab": {
          "base_uri": "https://localhost:8080/",
          "height": 34
        },
        "outputId": "14f3918f-2c7a-4250-afca-7851b27387e9"
      },
      "source": [
        "# Splitting a string\n",
        "\n",
        "a = \"[Miss Taylor Swift Jr]\"\n",
        "a = a.split(\" \")   # with this step,double quotes will be removed\n",
        "a = a[1:3]    # Miss = 0 index , Taylor = 1 and vice versa\n",
        "a = \" \".join(a)\n",
        "a"
      ],
      "execution_count": 18,
      "outputs": [
        {
          "output_type": "execute_result",
          "data": {
            "application/vnd.google.colaboratory.intrinsic+json": {
              "type": "string"
            },
            "text/plain": [
              "'Taylor Swift'"
            ]
          },
          "metadata": {
            "tags": []
          },
          "execution_count": 18
        }
      ]
    },
    {
      "cell_type": "code",
      "metadata": {
        "id": "fSx8kAqIXgkn",
        "colab": {
          "base_uri": "https://localhost:8080/",
          "height": 34
        },
        "outputId": "a4cc45f9-d37d-44f8-f3a0-0b46ec9ff2a0"
      },
      "source": [
        "a = 'sss.ddff/.knknjkjbb/kjkj'\n",
        "a.split(\".\")[-1].split(\"/\")[0]"
      ],
      "execution_count": 19,
      "outputs": [
        {
          "output_type": "execute_result",
          "data": {
            "application/vnd.google.colaboratory.intrinsic+json": {
              "type": "string"
            },
            "text/plain": [
              "'knkn'"
            ]
          },
          "metadata": {
            "tags": []
          },
          "execution_count": 19
        }
      ]
    },
    {
      "cell_type": "code",
      "metadata": {
        "id": "tn0AOxPNXgko",
        "colab": {
          "base_uri": "https://localhost:8080/"
        },
        "outputId": "07a5c3a1-9c8b-4698-a127-18e9e0c5cc6f"
      },
      "source": [
        "# String Formatting\n",
        "\n",
        "x = 10.89565    \n",
        "y = 4.6543112\n",
        "z = x+y\n",
        "print(\"Sum of x and y is {0:.01f}\".format(z)) # if we waana describe any program,we right in this format"
      ],
      "execution_count": 20,
      "outputs": [
        {
          "output_type": "stream",
          "text": [
            "Sum of x and y is 15.5\n"
          ],
          "name": "stdout"
        }
      ]
    },
    {
      "cell_type": "code",
      "metadata": {
        "id": "adMeqAjal6jE"
      },
      "source": [
        "x = 10.89565    \n",
        "y = 4.6543112\n",
        "z = x+y\n",
        "print(\"Sum of x and y is: + Whtever you wanna right\")   # This is How we right string description"
      ],
      "execution_count": null,
      "outputs": []
    },
    {
      "cell_type": "markdown",
      "metadata": {
        "id": "QxuxaezvXgkp"
      },
      "source": [
        "## Other Important Functions"
      ]
    },
    {
      "cell_type": "markdown",
      "metadata": {
        "id": "lU4Y8kslXgkq"
      },
      "source": [
        "* capitalize()\tConverts the first character to upper case\n",
        "\n",
        "* casefold()\tConverts string into lower case\n",
        " \n",
        "* center()\tReturns a centered string\n",
        "\n",
        "* count()\tReturns the number of times a specified value occurs in a string\n",
        "\n",
        "* encode()\tReturns an encoded version of the string\n",
        "\n",
        "* endswith()\tReturns true if the string ends with the specified value\n",
        "\n",
        "* expandtabs()\tSets the tab size of the string\n",
        "\n",
        "* find()\tSearches the string for a specified value and returns the position of where it was found\n",
        "* format()\tFormats specified values in a string\n",
        "* format_map()\tFormats specified values in a string\n",
        "* index()\tSearches the string for a specified value and returns the position of where it was found\n",
        "* isalnum()\tReturns True if all characters in the string are alphanumeric\n",
        "* isalpha()\tReturns True if all characters in the string are in the alphabet\n",
        "* isdecimal()\tReturns True if all characters in the string are decimals\n",
        "* isdigit()\tReturns True if all characters in the string are digits\n",
        "* isidentifier()\tReturns True if the string is an identifier\n",
        "* islower()\tReturns True if all characters in the string are lower case\n",
        "* isnumeric()\tReturns True if all characters in the string are numeric\n",
        "* isprintable()\tReturns True if all characters in the string are printable\n",
        "* isspace()\tReturns True if all characters in the string are whitespaces\n",
        "* istitle()\tReturns True if the string follows the rules of a title\n",
        "* isupper()\tReturns True if all characters in the string are upper case\n",
        "* join()\tJoins the elements of an iterable to the end of the string\n",
        "* ljust()\tReturns a left justified version of the string\n",
        "* lower()\tConverts a string into lower case\n",
        "* lstrip()\tReturns a left trim version of the string\n",
        "* maketrans()\tReturns a translation table to be used in translations\n",
        "* partition()\tReturns a tuple where the string is parted into three parts\n",
        "* replace()\tReturns a string where a specified value is replaced with a specified value\n",
        "* rfind()\tSearches the string for a specified value and returns the last position of where it was found\n",
        "* rindex()\tSearches the string for a specified value and returns the last position of where it was found\n",
        "* rjust()\tReturns a right justified version of the string\n",
        "* rpartition()\tReturns a tuple where the string is parted into three parts\n",
        "* rsplit()\tSplits the string at the specified separator, and returns a list\n",
        "* rstrip()\tReturns a right trim version of the string\n",
        "* split()\tSplits the string at the specified separator, and returns a list\n",
        "* splitlines()\tSplits the string at line breaks and returns a list\n",
        "* startswith()\tReturns true if the string starts with the specified value\n",
        "* strip()\tReturns a trimmed version of the string\n",
        "* swapcase()\tSwaps cases, lower case becomes upper case and vice versa\n",
        "* title()\tConverts the first character of each word to upper case\n",
        "* translate()\tReturns a translated string\n",
        "* upper()\tConverts a string into upper case\n",
        "* zfill()\tFills the string with a specified number of 0 values at the beginning"
      ]
    }
  ]
}