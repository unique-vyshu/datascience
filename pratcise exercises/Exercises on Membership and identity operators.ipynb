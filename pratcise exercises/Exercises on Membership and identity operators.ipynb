{
 "cells": [
  {
   "cell_type": "markdown",
   "metadata": {},
   "source": [
    "##### 1. write a python program to check if a sqquence of values exists in another sequence or not. print overlapping if it's available or else print \"not overlapping\" "
   ]
  },
  {
   "cell_type": "code",
   "execution_count": 1,
   "metadata": {},
   "outputs": [
    {
     "name": "stdout",
     "output_type": "stream",
     "text": [
      "not overlapping\n"
     ]
    }
   ],
   "source": [
    "list1=[1,2,3,4,5] \n",
    "list2=[6,7,8,9] \n",
    "for item in list1: \n",
    "    if item in list2: \n",
    "        print(\"overlapping\")       \n",
    "else: \n",
    "    print(\"not overlapping\") "
   ]
  },
  {
   "cell_type": "markdown",
   "metadata": {},
   "source": [
    "##### 2. Ram and Raj are going to a shop to buy candies. in that shop they have candies in the given list of prices. Ram and Raj having few amout, help to shop keeper to sum the total amount and check it he has candies for total amount or not\n",
    "\n",
    "* candies = 8, 2, 3, 6, 1, 5"
   ]
  },
  {
   "cell_type": "code",
   "execution_count": 11,
   "metadata": {},
   "outputs": [
    {
     "name": "stdout",
     "output_type": "stream",
     "text": [
      "candies available for 2 rupees\n"
     ]
    }
   ],
   "source": [
    "raj = 1\n",
    "ram = 1\n",
    "candies = [8, 2, 3, 6, 1, 5]\n",
    "\n",
    "total = raj+ram\n",
    "if ( total not in candies ):\n",
    "   print(f\"candies not available for {total} rupees\")\n",
    "else:\n",
    "   print(f\"candies available for {total} rupees\")"
   ]
  },
  {
   "cell_type": "markdown",
   "metadata": {},
   "source": [
    "##### 3. write a python program with identity operator to check the user input is correct or not. create a answer checker."
   ]
  },
  {
   "cell_type": "code",
   "execution_count": 22,
   "metadata": {},
   "outputs": [
    {
     "name": "stdout",
     "output_type": "stream",
     "text": [
      "On which year, python first released: 2021\n",
      "wrong answer\n"
     ]
    }
   ],
   "source": [
    "ans= int(input(\"On which year, python first released: \"))\n",
    "\n",
    "real_ans= 1991\n",
    "\n",
    "if ans is real_ans:\n",
    "    print ('correct answer')\n",
    "else:\n",
    "    print(\"wrong answer\")"
   ]
  },
  {
   "cell_type": "code",
   "execution_count": null,
   "metadata": {},
   "outputs": [],
   "source": []
  }
 ],
 "metadata": {
  "kernelspec": {
   "display_name": "Python 3",
   "language": "python",
   "name": "python3"
  },
  "language_info": {
   "codemirror_mode": {
    "name": "ipython",
    "version": 3
   },
   "file_extension": ".py",
   "mimetype": "text/x-python",
   "name": "python",
   "nbconvert_exporter": "python",
   "pygments_lexer": "ipython3",
   "version": "3.8.3"
  }
 },
 "nbformat": 4,
 "nbformat_minor": 4
}
