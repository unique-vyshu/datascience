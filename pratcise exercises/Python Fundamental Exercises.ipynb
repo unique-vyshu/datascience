{
 "cells": [
  {
   "cell_type": "markdown",
   "metadata": {},
   "source": [
    "# Python Fundamental Exercises"
   ]
  },
  {
   "cell_type": "markdown",
   "metadata": {},
   "source": [
    "### Variables and Data Types"
   ]
  },
  {
   "cell_type": "markdown",
   "metadata": {},
   "source": [
    "##### 1. Write a program to create interger, string, float variables in single line and print the type of each variables"
   ]
  },
  {
   "cell_type": "code",
   "execution_count": 1,
   "metadata": {},
   "outputs": [],
   "source": [
    "a, b, c = 1, 'python', 3.7\n",
    "\n",
    "# a is integer variable, b, is string variable and c is float variable"
   ]
  },
  {
   "cell_type": "code",
   "execution_count": 2,
   "metadata": {},
   "outputs": [
    {
     "name": "stdout",
     "output_type": "stream",
     "text": [
      "variable a is : <class 'int'>\n",
      "variable b is : <class 'str'>\n",
      "variable c is : <class 'float'>\n"
     ]
    }
   ],
   "source": [
    "# let's print type of each declared variables\n",
    "\n",
    "print(f'variable a is : {type(a)}')\n",
    "print(f'variable b is : {type(b)}')\n",
    "print(f'variable c is : {type(c)}')"
   ]
  },
  {
   "cell_type": "markdown",
   "metadata": {},
   "source": [
    "##### 2. Write a program to create a string variable with numerical value and print the type of it"
   ]
  },
  {
   "cell_type": "code",
   "execution_count": 3,
   "metadata": {},
   "outputs": [],
   "source": [
    "s1 = '45'\n",
    "\n",
    "#we have declared a variable s1 with a numerical value, let's print the value and type of s1 also"
   ]
  },
  {
   "cell_type": "code",
   "execution_count": 4,
   "metadata": {},
   "outputs": [
    {
     "name": "stdout",
     "output_type": "stream",
     "text": [
      "variable s1 has a value : 45\n",
      "datatype of variable s1 : <class 'str'>\n"
     ]
    }
   ],
   "source": [
    "print(f'variable s1 has a value : {s1}')\n",
    "print(f'datatype of variable s1 : {type(s1)}')"
   ]
  },
  {
   "cell_type": "markdown",
   "metadata": {},
   "source": [
    "##### 3. Write a program to create a global and local scope with same name and print them both"
   ]
  },
  {
   "cell_type": "code",
   "execution_count": 5,
   "metadata": {},
   "outputs": [
    {
     "name": "stdout",
     "output_type": "stream",
     "text": [
      "Here '_a' is global variable\n",
      "Here '_a' is local variable\n"
     ]
    }
   ],
   "source": [
    "def func():  \n",
    "    global _a \n",
    "    print(_a) \n",
    "    \n",
    "    # Local scope\n",
    "    _a = \"Here '_a' is local variable\"\n",
    "    print(_a)  \n",
    "    \n",
    "# Global scope \n",
    "_a = \"Here '_a' is global variable\" \n",
    "func()\n",
    "\n",
    "# Note: Here we have created a variable with a name starting with _\n",
    "# as we have seen in the course we can name a variable with starting letter '_' also.\n",
    "# on the other hand, python is case sensitive. So, variable name 'a' and 'A' is different in python"
   ]
  },
  {
   "cell_type": "markdown",
   "metadata": {},
   "source": [
    "### Operators"
   ]
  },
  {
   "cell_type": "markdown",
   "metadata": {},
   "source": [
    "##### 1. If you are travelling from Houston, TX to Austin, TX and then from Austin, TX to Dallas, TX. How will you calculate the total distance and time you are travelling "
   ]
  },
  {
   "cell_type": "code",
   "execution_count": 6,
   "metadata": {},
   "outputs": [],
   "source": [
    "#houston to austin is 162 miles\n",
    "#Austin to Dallas is 195 miles\n",
    "Hou_Aus = 162\n",
    "Aus_Dal = 195"
   ]
  },
  {
   "cell_type": "code",
   "execution_count": 7,
   "metadata": {},
   "outputs": [
    {
     "name": "stdout",
     "output_type": "stream",
     "text": [
      "Total distance you are travelling: 357 miles\n"
     ]
    }
   ],
   "source": [
    "Total_dist = Hou_Aus + Aus_Dal\n",
    "\n",
    "print(f'Total distance you are travelling: {Total_dist} miles')"
   ]
  },
  {
   "cell_type": "markdown",
   "metadata": {},
   "source": [
    "* Let's assume you are driving in 70 mph, how will you find the total time requred for your travel "
   ]
  },
  {
   "cell_type": "code",
   "execution_count": 8,
   "metadata": {},
   "outputs": [],
   "source": [
    "mph = 70\n",
    "\n",
    "#time is equal to distance divided by speed\n",
    "\n",
    "time = Total_dist / mph"
   ]
  },
  {
   "cell_type": "code",
   "execution_count": 9,
   "metadata": {},
   "outputs": [
    {
     "name": "stdout",
     "output_type": "stream",
     "text": [
      "Time Required for the travel: 5.1 hours\n"
     ]
    }
   ],
   "source": [
    "print(f'Time Required for the travel: {time} hours')"
   ]
  },
  {
   "cell_type": "markdown",
   "metadata": {},
   "source": [
    "###### 2. Find the reminder of 111 divides 33 then cube the reminder value, multiple it 4 times and subtract 555,  print the value. the value should be 6357"
   ]
  },
  {
   "cell_type": "code",
   "execution_count": 10,
   "metadata": {},
   "outputs": [
    {
     "name": "stdout",
     "output_type": "stream",
     "text": [
      "Result value is 6357\n"
     ]
    }
   ],
   "source": [
    "rem = 111 % 33\n",
    "cubed = rem**3\n",
    "mul = cubed * 4\n",
    "sub = mul - 555\n",
    "\n",
    "print(f'Result value is {sub}')"
   ]
  },
  {
   "cell_type": "markdown",
   "metadata": {},
   "source": [
    "###### 3. Let's assume a = 1, b= 2, and try to apply the assignment operators as below and finally print the result and the result should be '1.0' \n",
    "\n",
    "* sum a and b first and apply the following assignment opperators\n",
    "* += a\n",
    "* -= 5\n",
    "* *= a\n",
    "* /= b\n",
    "* **= a"
   ]
  },
  {
   "cell_type": "code",
   "execution_count": 11,
   "metadata": {},
   "outputs": [
    {
     "name": "stdout",
     "output_type": "stream",
     "text": [
      "Result value is 1.0\n"
     ]
    }
   ],
   "source": [
    "a, b = 1, 2\n",
    "\n",
    "# let's sum a and b first\n",
    "c= a+b\n",
    "c+=a\n",
    "c-=2\n",
    "c*=a\n",
    "c/=b\n",
    "c**=a\n",
    "\n",
    "print(f'Result value is {c}')"
   ]
  },
  {
   "cell_type": "markdown",
   "metadata": {},
   "source": [
    "### Strings"
   ]
  },
  {
   "cell_type": "markdown",
   "metadata": {},
   "source": [
    "##### 1. write a code for string formatting and take your first and last name as inputs to it"
   ]
  },
  {
   "cell_type": "code",
   "execution_count": 12,
   "metadata": {},
   "outputs": [
    {
     "name": "stdout",
     "output_type": "stream",
     "text": [
      "Enter your first name: Mary\n",
      "Enter your second name: Jane\n",
      "Hello Mary Jane! Congrats, you have learnt string formatting.\n"
     ]
    }
   ],
   "source": [
    "def full_name(a, b):\n",
    "    print(\"Hello {} {}! Congrats, you have learnt string formatting.\".format(a,b))\n",
    "    #we can write like the below code also\n",
    "    #print(f'Hello {a} {b}! Congrats, you have learnt string formatting')\n",
    "    \n",
    "first=input('Enter your first name: ')\n",
    "second= input('Enter your second name: ')\n",
    "    \n",
    "full_name(first, second)"
   ]
  },
  {
   "cell_type": "markdown",
   "metadata": {},
   "source": [
    "###### 2. write a program to capitalize the given string input ( 'python is good' --> 'Python Is Good' )\n",
    "* note that you have to use split() and capitalize() funtions to fet the answer"
   ]
  },
  {
   "cell_type": "code",
   "execution_count": 13,
   "metadata": {},
   "outputs": [
    {
     "name": "stdout",
     "output_type": "stream",
     "text": [
      "Enter the given input value: python is good\n",
      "Python Is Good\n"
     ]
    }
   ],
   "source": [
    "def cap(s):\n",
    "    for x in s.split():\n",
    "        s = s.replace(x, x.capitalize())\n",
    "    print(s)\n",
    "s= input('Enter the given input value: ')\n",
    "cap(s)\n"
   ]
  },
  {
   "cell_type": "markdown",
   "metadata": {},
   "source": [
    "##### 3. write a program to reverse a given string input"
   ]
  },
  {
   "cell_type": "code",
   "execution_count": 14,
   "metadata": {
    "scrolled": true
   },
   "outputs": [
    {
     "name": "stdout",
     "output_type": "stream",
     "text": [
      "Enter a sentence: Python is good\n",
      "The original string  is : Python is good\n",
      "The reversed string is : doog si nohtyP\n"
     ]
    }
   ],
   "source": [
    "def reverse(string): \n",
    "    string = string[::-1] \n",
    "    return string \n",
    "  \n",
    "s = input('Enter a sentence: ')\n",
    "  \n",
    "print (f\"The original string  is : {s}\")  \n",
    "  \n",
    "print (f\"The reversed string is : {reverse(s)}\") \n"
   ]
  },
  {
   "cell_type": "markdown",
   "metadata": {},
   "source": [
    "### Loop and conditions"
   ]
  },
  {
   "cell_type": "markdown",
   "metadata": {},
   "source": [
    "##### 1. Write a Python program to find those numbers which are divisible by 3, 6 and 9, between 500 and 600 (500 and 600 not inclusive)\n",
    "* Result should be 504,522,540,558,576,594"
   ]
  },
  {
   "cell_type": "code",
   "execution_count": 15,
   "metadata": {},
   "outputs": [
    {
     "name": "stdout",
     "output_type": "stream",
     "text": [
      " Following values are divisible by 3, 6 and 9: 504,522,540,558,576,594\n"
     ]
    }
   ],
   "source": [
    "nl=[]\n",
    "for x in range(501, 600):\n",
    "    if (x%3==0) and (x%6==0) and (x%9==0):\n",
    "        nl.append(str(x))\n",
    "print (f\" Following values are divisible by 3, 6 and 9: {','.join(nl)}\")"
   ]
  },
  {
   "cell_type": "markdown",
   "metadata": {},
   "source": [
    "##### 2. Write a program to calculate the number of letters and digits in a string\n",
    "* Note: use 'for loop' and 'if, elif, else' conditions\n",
    "* you have to use isalpha() and isdigit() functions to check the type"
   ]
  },
  {
   "cell_type": "code",
   "execution_count": 16,
   "metadata": {},
   "outputs": [
    {
     "name": "stdout",
     "output_type": "stream",
     "text": [
      "Input a string: October 2021\n",
      "Letters 7\n",
      "Digits 4\n"
     ]
    }
   ],
   "source": [
    "s = input(\"Input a string: \")\n",
    "d=l=0\n",
    "for c in s:\n",
    "    if c.isdigit():\n",
    "        d=d+1\n",
    "    elif c.isalpha():\n",
    "        l=l+1\n",
    "    else:\n",
    "        pass\n",
    "print(\"Letters\", l)\n",
    "print(\"Digits\", d)"
   ]
  },
  {
   "cell_type": "markdown",
   "metadata": {},
   "source": [
    "##### 3. Write a program to print the following string but skip the character 'm' while printing\n",
    "* input string: 'Python is an experiment in how much freedom programmers need'"
   ]
  },
  {
   "cell_type": "code",
   "execution_count": 17,
   "metadata": {},
   "outputs": [
    {
     "name": "stdout",
     "output_type": "stream",
     "text": [
      "Python is an experient in how uch freedo prograers need"
     ]
    }
   ],
   "source": [
    "string= 'Python is an experiment in how much freedom programmers need'\n",
    "for i in string:\n",
    "    if i=='m':\n",
    "        continue\n",
    "    print(i, end='')\n",
    "    "
   ]
  },
  {
   "cell_type": "code",
   "execution_count": null,
   "metadata": {},
   "outputs": [],
   "source": []
  }
 ],
 "metadata": {
  "kernelspec": {
   "display_name": "Python 3",
   "language": "python",
   "name": "python3"
  },
  "language_info": {
   "codemirror_mode": {
    "name": "ipython",
    "version": 3
   },
   "file_extension": ".py",
   "mimetype": "text/x-python",
   "name": "python",
   "nbconvert_exporter": "python",
   "pygments_lexer": "ipython3",
   "version": "3.8.3"
  }
 },
 "nbformat": 4,
 "nbformat_minor": 4
}
