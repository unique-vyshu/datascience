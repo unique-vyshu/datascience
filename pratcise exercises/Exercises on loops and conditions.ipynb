{
 "cells": [
  {
   "cell_type": "markdown",
   "metadata": {},
   "source": [
    "##### 1. Write a program to calculate the number of letters and digits in a string"
   ]
  },
  {
   "cell_type": "code",
   "execution_count": 5,
   "metadata": {},
   "outputs": [
    {
     "data": {
      "text/plain": [
       "False"
      ]
     },
     "execution_count": 5,
     "metadata": {},
     "output_type": "execute_result"
    }
   ],
   "source": [
    "s = \"8\"\n",
    "s.isalpha()"
   ]
  },
  {
   "cell_type": "code",
   "execution_count": 1,
   "metadata": {},
   "outputs": [
    {
     "name": "stdout",
     "output_type": "stream",
     "text": [
      "Input a string: November 25\n",
      "Letters 8\n",
      "Digits 2\n"
     ]
    }
   ],
   "source": [
    "s = input(\"Input a string: \")\n",
    "\n",
    "d=l=0\n",
    "for c in s:\n",
    "    if c.isdigit():\n",
    "        d=d+1\n",
    "    elif c.isalpha():\n",
    "        l=l+1\n",
    "    \n",
    "print(\"Letters\", l)\n",
    "print(\"Digits\", d)"
   ]
  },
  {
   "cell_type": "markdown",
   "metadata": {},
   "source": [
    "###### 2. Write a python program to skip character 'o' from given input string and break the iteration if the character is 'q'. Finally, show the difference in character count before and after.\n",
    "* input string - 'abcdefghijklmnopqrstuvwxyz' "
   ]
  },
  {
   "cell_type": "code",
   "execution_count": 3,
   "metadata": {},
   "outputs": [
    {
     "name": "stdout",
     "output_type": "stream",
     "text": [
      "Enter a string input: abcdefghijklmnopqrstuvwxyz\n",
      "Character count before skipping o's: 26\n",
      "String after removing o's: abcdefghijklmnp\n",
      "Character count after skipping o's: 15\n"
     ]
    }
   ],
   "source": [
    "s= input('Enter a string input: ')\n",
    "print(f'Character count before skipping o\\'s: {len(s)}')\n",
    "\n",
    "s1=''\n",
    "for i in s:\n",
    "    if i =='o':\n",
    "        continue\n",
    "    elif i =='q':\n",
    "        break\n",
    "    s1+=i\n",
    "\n",
    "print(f'String after removing o\\'s: {s1}')\n",
    "print(f'Character count after skipping o\\'s: {len(s1)}')"
   ]
  },
  {
   "cell_type": "markdown",
   "metadata": {},
   "source": [
    "##### 3. Write a python program to check the given integer is amstrong number or not"
   ]
  },
  {
   "cell_type": "code",
   "execution_count": 16,
   "metadata": {},
   "outputs": [
    {
     "data": {
      "text/plain": [
       "1"
      ]
     },
     "execution_count": 16,
     "metadata": {},
     "output_type": "execute_result"
    }
   ],
   "source": [
    "num = 153\n",
    "order = len(str(num))\n",
    "s = num%10\n",
    "15//10"
   ]
  },
  {
   "cell_type": "code",
   "execution_count": 7,
   "metadata": {},
   "outputs": [
    {
     "name": "stdout",
     "output_type": "stream",
     "text": [
      "Enter a integer to find whether it is amstrong number or not: 1634\n",
      "1634 is an Armstrong number\n"
     ]
    }
   ],
   "source": [
    "num = int(input('Enter a integer to find whether it is amstrong number or not: '))\n",
    "\n",
    " \n",
    "# calculat the length of given input\n",
    "order = len(str(num))\n",
    "sum = 0\n",
    "\n",
    "temp = num\n",
    "while temp > 0:\n",
    "   digit = temp % 10\n",
    "   sum += digit ** order\n",
    "   temp //= 10\n",
    "\n",
    "if num == sum:\n",
    "   print(num,\"is an Armstrong number\")\n",
    "else:\n",
    "   print(num,\"is not an Armstrong number\")"
   ]
  }
 ],
 "metadata": {
  "kernelspec": {
   "display_name": "Python 3",
   "language": "python",
   "name": "python3"
  },
  "language_info": {
   "codemirror_mode": {
    "name": "ipython",
    "version": 3
   },
   "file_extension": ".py",
   "mimetype": "text/x-python",
   "name": "python",
   "nbconvert_exporter": "python",
   "pygments_lexer": "ipython3",
   "version": "3.6.8"
  }
 },
 "nbformat": 4,
 "nbformat_minor": 4
}
