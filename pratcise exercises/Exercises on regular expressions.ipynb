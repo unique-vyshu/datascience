{
 "cells": [
  {
   "cell_type": "markdown",
   "metadata": {},
   "source": [
    "##### 1. Write a program to extract email id from the given string\n",
    "* input string: Hello from abc456@gmail.com to pxyz123@yahoo.com about the meeting @6PM"
   ]
  },
  {
   "cell_type": "code",
   "execution_count": 11,
   "metadata": {},
   "outputs": [
    {
     "name": "stdout",
     "output_type": "stream",
     "text": [
      "['abc456@gmail.com', 'pxyz123@yahoo.com']\n"
     ]
    }
   ],
   "source": [
    "import re  \n",
    "  \n",
    " \n",
    "s = \"Hello from abc456@gmail.com to pxyz123@yahoo.com about the meeting @6PM\"\n",
    "   \n",
    "lst = re.findall('\\S+@\\S+', s)    \n",
    "  \n",
    "print(lst)"
   ]
  },
  {
   "cell_type": "markdown",
   "metadata": {},
   "source": [
    "##### 2. Write a python program to validate the entered gmail id.\n",
    "**gmail id is valid if it satisfies the following:**\n",
    "* should start with lowercase or numeric\n",
    "* should have a '@' at the 9th position from the last\n",
    "* should have a '.' at the 4th position from the last\n",
    "* should have 3 lowercase letter after '.'"
   ]
  },
  {
   "cell_type": "code",
   "execution_count": 8,
   "metadata": {},
   "outputs": [
    {
     "name": "stdout",
     "output_type": "stream",
     "text": [
      "Valid email\n"
     ]
    }
   ],
   "source": [
    "import re \n",
    "  \n",
    "regex = '^[a-z0-9_]+@gmail.\\w{3}$'\n",
    "\n",
    "def check(email):  \n",
    "\n",
    "    if(re.search(regex,email)):  \n",
    "        print(\"Valid email\")  \n",
    "          \n",
    "    else:  \n",
    "        print(\"Invalid email\")  \n",
    "      \n",
    "email = \"xyz123_32@gmail.com\"\n",
    "\n",
    "check(email)"
   ]
  },
  {
   "cell_type": "markdown",
   "metadata": {},
   "source": [
    "##### 3. Write a python program to validate the entered password. \n",
    "**Password is valid if it satisfies the following:**\n",
    "* password should have atleast one lowercase, one uppercase, one numeric and one special character\n",
    "* password should me in the length of 6 characters as mininum and 20 characters as maximum"
   ]
  },
  {
   "cell_type": "code",
   "execution_count": 4,
   "metadata": {},
   "outputs": [
    {
     "name": "stdout",
     "output_type": "stream",
     "text": [
      "Enter a valid password: Data$34Z\n",
      "Password is valid.\n"
     ]
    }
   ],
   "source": [
    "import re \n",
    "  \n",
    "passwd = input('Enter a valid password: ')\n",
    "reg = \"^(?=.*[a-z])(?=.*[A-Z])(?=.*\\d)(?=.*[@$!%*#?&])[A-Za-z\\d@$!#%*?&]{6,20}$\"\n",
    "      \n",
    "pat = re.compile(reg) \n",
    "                        \n",
    "mat = re.search(pat, passwd) \n",
    "       \n",
    "if mat: \n",
    "    print(\"Password is valid.\") \n",
    "else: \n",
    "    print(\"Password invalid !!\") "
   ]
  },
  {
   "cell_type": "code",
   "execution_count": null,
   "metadata": {},
   "outputs": [],
   "source": []
  }
 ],
 "metadata": {
  "kernelspec": {
   "display_name": "Python 3",
   "language": "python",
   "name": "python3"
  },
  "language_info": {
   "codemirror_mode": {
    "name": "ipython",
    "version": 3
   },
   "file_extension": ".py",
   "mimetype": "text/x-python",
   "name": "python",
   "nbconvert_exporter": "python",
   "pygments_lexer": "ipython3",
   "version": "3.8.3"
  }
 },
 "nbformat": 4,
 "nbformat_minor": 4
}
