{
 "cells": [
  {
   "cell_type": "markdown",
   "metadata": {},
   "source": [
    "##### 1. Help a teacher to find which students are all scored more than or equal to 35 to check who are all get pass marks. and print the pass students names "
   ]
  },
  {
   "cell_type": "code",
   "execution_count": 4,
   "metadata": {},
   "outputs": [
    {
     "data": {
      "text/plain": [
       "['John', 'Mathew', 'Mary', 'Max', 'Peter']"
      ]
     },
     "execution_count": 4,
     "metadata": {},
     "output_type": "execute_result"
    }
   ],
   "source": [
    "Marks = {'John': 92, \n",
    "         'Mathew': 36,\n",
    "         'Mary': 35,\n",
    "         'Max': 88,\n",
    "         'Peter': 62,\n",
    "         'Philip': 32}\n",
    "\n",
    "pass_students=[]\n",
    "def identifier(marks):\n",
    "    for k, v in marks.items():\n",
    "        if v >=35:\n",
    "            pass_students.append(k)\n",
    "    return pass_students\n",
    "\n",
    "result = identifier(Marks)\n",
    "result"
   ]
  },
  {
   "cell_type": "markdown",
   "metadata": {},
   "source": [
    "##### 2. Help a teacher to find who are all failed to get 35 and who are all got pass marks and top scorers which are students with more than 90. Print the failed students and top marks scored students names"
   ]
  },
  {
   "cell_type": "code",
   "execution_count": 6,
   "metadata": {},
   "outputs": [
    {
     "name": "stdout",
     "output_type": "stream",
     "text": [
      "Top students who scored more than 90: ['Philip']\n",
      "Students who failed to score 35 marks: ['John']\n"
     ]
    }
   ],
   "source": [
    "Marks = {'John': 92, \n",
    "         'Mathew': 36,\n",
    "         'Mary': 35,\n",
    "         'Max': 88,\n",
    "         'Peter': 62,\n",
    "         'Philip': 32}\n",
    "\n",
    "failed_students=[]\n",
    "top_students = []\n",
    "def identifier(marks):\n",
    "    for k, v in marks.items():\n",
    "        if v <35:\n",
    "            failed_students.append(k)\n",
    "        elif v>=35 and v > 90:\n",
    "            top_students.append(k)\n",
    "    return failed_students, top_students\n",
    "\n",
    "top, failed = identifier(Marks)\n",
    "print(f'Top students who scored more than 90: {top}')\n",
    "print(f'Students who failed to score 35 marks: {failed}')"
   ]
  },
  {
   "cell_type": "markdown",
   "metadata": {},
   "source": [
    "#####  create a access rights providing system for a system administator, which should help him to allow user based on their designation. \n",
    "* if their designation id \"viewer\" then they can able to view the file\n",
    "* if their designation id \"Editor\" then they can able to view and edit the file\n",
    "* if their designation id \"Creator\" then they can able to view, edit and create the file"
   ]
  },
  {
   "cell_type": "code",
   "execution_count": 25,
   "metadata": {},
   "outputs": [
    {
     "name": "stdout",
     "output_type": "stream",
     "text": [
      "yes, a creator can view, edit and create the file\n",
      "yes, an editor can view and edit the file\n",
      "yes, a view can view the file\n"
     ]
    }
   ],
   "source": [
    "view, edit, create = 1,1,1\n",
    "class User:\n",
    "    def __init__(self, rights):\n",
    "        self.rights = rights \n",
    "    def can_view(self):\n",
    "        return view & self.rights\n",
    "    def can_edit (self):\n",
    "        return edit & self.rights\n",
    "    def can_create(self):\n",
    "        return create & self.rights\n",
    "    \n",
    "viewer = User(view)\n",
    "editor = User(view | edit)\n",
    "creator = User(view | edit | create)\n",
    "\n",
    "\n",
    "if creator.can_create():\n",
    "    print('yes, a creator can view, edit and create the file')\n",
    "else:\n",
    "    print('No')\n",
    "    \n",
    "if editor.can_edit():\n",
    "    print('yes, an editor can view and edit the file')\n",
    "else:\n",
    "    print('No')\n",
    "    \n",
    "if viewer.can_view():\n",
    "    print('yes, a view can view the file')\n",
    "else:\n",
    "    print('No')\n",
    "    "
   ]
  },
  {
   "cell_type": "code",
   "execution_count": null,
   "metadata": {},
   "outputs": [],
   "source": []
  }
 ],
 "metadata": {
  "kernelspec": {
   "display_name": "Python 3",
   "language": "python",
   "name": "python3"
  },
  "language_info": {
   "codemirror_mode": {
    "name": "ipython",
    "version": 3
   },
   "file_extension": ".py",
   "mimetype": "text/x-python",
   "name": "python",
   "nbconvert_exporter": "python",
   "pygments_lexer": "ipython3",
   "version": "3.8.3"
  }
 },
 "nbformat": 4,
 "nbformat_minor": 4
}
